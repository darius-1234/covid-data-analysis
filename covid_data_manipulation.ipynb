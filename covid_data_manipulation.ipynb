{
 "cells": [
  {
   "cell_type": "markdown",
   "id": "e376d6f5",
   "metadata": {},
   "source": [
    "Note that file contains some helper functions used to transform pandas dataframes for covid-main.ipynb. However, a lot of the data manipulation is still done in covid-main.ipynb as it is often small, non-reptitive bits of code and it is clearer to understand what is happenning with the function definition right there in the file."
   ]
  },
  {
   "cell_type": "code",
   "execution_count": 1,
   "id": "7967e9ab",
   "metadata": {},
   "outputs": [],
   "source": [
    "import pandas as pd"
   ]
  },
  {
   "cell_type": "code",
   "execution_count": 1,
   "id": "e04de8d3",
   "metadata": {},
   "outputs": [],
   "source": [
    "def remove_locations(df, *cols):\n",
    "    for col in cols:\n",
    "        df = df[df['location'] != col]\n",
    "    return df    "
   ]
  },
  {
   "cell_type": "code",
   "execution_count": 2,
   "id": "0eddcbba",
   "metadata": {},
   "outputs": [],
   "source": [
    "def remove_nulls(df, *cols):\n",
    "    for col in cols:\n",
    "        df = df[df[col].notna()]\n",
    "    return df  "
   ]
  },
  {
   "cell_type": "code",
   "execution_count": 6,
   "id": "beaa52df",
   "metadata": {},
   "outputs": [],
   "source": [
    "def add_locations(df_new, df_source, countryList):\n",
    "    for country in countryList:\n",
    "        df_new = df_new.append(df_source[df_source['location']==country].iloc[-1:])\n",
    "    return df_new"
   ]
  },
  {
   "cell_type": "code",
   "execution_count": 1,
   "id": "8acb9347",
   "metadata": {},
   "outputs": [],
   "source": [
    "def single_continent_df(df, continent):\n",
    "    return df[df['continent'] == continent]"
   ]
  },
  {
   "cell_type": "code",
   "execution_count": 2,
   "id": "ea70513e",
   "metadata": {},
   "outputs": [],
   "source": [
    "def two_continent_df(df, c1, c2):\n",
    "    df_new = df[df['continent'] == c1]\n",
    "    df_new = df_new.append(df[df['continent'] == 'Africa'])\n",
    "    return df_new"
   ]
  },
  {
   "cell_type": "code",
   "execution_count": 4,
   "id": "43ec1873",
   "metadata": {},
   "outputs": [],
   "source": [
    "def smoker_df(df, m_f_smokers, m_f):\n",
    "    df_new = df[[m_f_smokers,'continent','location']]\n",
    "    df_new['male or female'] = m_f\n",
    "    df_new.rename(columns={m_f_smokers: 'smoking rate'}, inplace = True)\n",
    "    return df_new"
   ]
  },
  {
   "cell_type": "code",
   "execution_count": 5,
   "id": "564f1ddc",
   "metadata": {},
   "outputs": [],
   "source": [
    "def common_countries(df1, df2):\n",
    "    return list(pd.concat([df1['location'], df2['location']]).drop_duplicates(keep = False))"
   ]
  },
  {
   "cell_type": "code",
   "execution_count": null,
   "id": "e3a6c2ea",
   "metadata": {},
   "outputs": [],
   "source": [
    "def drop_values_from(df, source, checkFrom):\n",
    "    for item in source :\n",
    "        if item in checkFrom:\n",
    "            df.drop(item, inplace = True)\n",
    "    return df"
   ]
  }
 ],
 "metadata": {
  "kernelspec": {
   "display_name": "Python 3",
   "language": "python",
   "name": "python3"
  },
  "language_info": {
   "codemirror_mode": {
    "name": "ipython",
    "version": 3
   },
   "file_extension": ".py",
   "mimetype": "text/x-python",
   "name": "python",
   "nbconvert_exporter": "python",
   "pygments_lexer": "ipython3",
   "version": "3.8.8"
  }
 },
 "nbformat": 4,
 "nbformat_minor": 5
}
